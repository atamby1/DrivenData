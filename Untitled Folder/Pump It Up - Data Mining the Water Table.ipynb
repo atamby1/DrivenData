{
 "cells": [
  {
   "cell_type": "code",
   "execution_count": 1,
   "metadata": {
    "collapsed": false,
    "scrolled": true
   },
   "outputs": [
    {
     "name": "stdout",
     "output_type": "stream",
     "text": [
      "      id  amount_tsh date_recorded        funder  gps_height     installer  \\\n",
      "0  69572      6000.0    2011-03-14         Roman        1390         Roman   \n",
      "1   8776         0.0    2013-03-06       Grumeti        1399       GRUMETI   \n",
      "2  34310        25.0    2013-02-25  Lottery Club         686  World vision   \n",
      "3  67743         0.0    2013-01-28        Unicef         263        UNICEF   \n",
      "4  19728         0.0    2011-07-13   Action In A           0       Artisan   \n",
      "\n",
      "   longitude   latitude              wpt_name  num_private  \\\n",
      "0  34.938093  -9.856322                  none            0   \n",
      "1  34.698766  -2.147466              Zahanati            0   \n",
      "2  37.460664  -3.821329           Kwa Mahundi            0   \n",
      "3  38.486161 -11.155298  Zahanati Ya Nanyumbu            0   \n",
      "4  31.130847  -1.825359               Shuleni            0   \n",
      "\n",
      "                     basin  subvillage   region  region_code  district_code  \\\n",
      "0               Lake Nyasa    Mnyusi B   Iringa           11              5   \n",
      "1            Lake Victoria     Nyamara     Mara           20              2   \n",
      "2                  Pangani     Majengo  Manyara           21              4   \n",
      "3  Ruvuma / Southern Coast  Mahakamani   Mtwara           90             63   \n",
      "4            Lake Victoria  Kyanyamisa   Kagera           18              1   \n",
      "\n",
      "         lga        ward  population public_meeting              recorded_by  \\\n",
      "0     Ludewa    Mundindi         109           True  GeoData Consultants Ltd   \n",
      "1  Serengeti       Natta         280            NaN  GeoData Consultants Ltd   \n",
      "2  Simanjiro     Ngorika         250           True  GeoData Consultants Ltd   \n",
      "3   Nanyumbu    Nanyumbu          58           True  GeoData Consultants Ltd   \n",
      "4    Karagwe  Nyakasimbi           0           True  GeoData Consultants Ltd   \n",
      "\n",
      "  scheme_management                  scheme_name permit  construction_year  \\\n",
      "0               VWC                        Roman  False               1999   \n",
      "1             Other                          NaN   True               2010   \n",
      "2               VWC  Nyumba ya mungu pipe scheme   True               2009   \n",
      "3               VWC                          NaN   True               1986   \n",
      "4               NaN                          NaN   True                  0   \n",
      "\n",
      "  extraction_type extraction_type_group extraction_type_class management  \\\n",
      "0         gravity               gravity               gravity        vwc   \n",
      "1         gravity               gravity               gravity        wug   \n",
      "2         gravity               gravity               gravity        vwc   \n",
      "3     submersible           submersible           submersible        vwc   \n",
      "4         gravity               gravity               gravity      other   \n",
      "\n",
      "  management_group         payment payment_type water_quality quality_group  \\\n",
      "0       user-group    pay annually     annually          soft          good   \n",
      "1       user-group       never pay    never pay          soft          good   \n",
      "2       user-group  pay per bucket   per bucket          soft          good   \n",
      "3       user-group       never pay    never pay          soft          good   \n",
      "4            other       never pay    never pay          soft          good   \n",
      "\n",
      "       quantity quantity_group                source           source_type  \\\n",
      "0        enough         enough                spring                spring   \n",
      "1  insufficient   insufficient  rainwater harvesting  rainwater harvesting   \n",
      "2        enough         enough                   dam                   dam   \n",
      "3           dry            dry           machine dbh              borehole   \n",
      "4      seasonal       seasonal  rainwater harvesting  rainwater harvesting   \n",
      "\n",
      "  source_class              waterpoint_type waterpoint_type_group  \\\n",
      "0  groundwater           communal standpipe    communal standpipe   \n",
      "1      surface           communal standpipe    communal standpipe   \n",
      "2      surface  communal standpipe multiple    communal standpipe   \n",
      "3  groundwater  communal standpipe multiple    communal standpipe   \n",
      "4      surface           communal standpipe    communal standpipe   \n",
      "\n",
      "     status_group  \n",
      "0      functional  \n",
      "1      functional  \n",
      "2      functional  \n",
      "3  non functional  \n",
      "4      functional  \n"
     ]
    }
   ],
   "source": [
    "import numpy as np\n",
    "import pandas as pd\n",
    "import matplotlib.pyplot as plt\n",
    "import seaborn as sns\n",
    "import time\n",
    "import warnings\n",
    "from sklearn import preprocessing, cross_validation, metrics, grid_search \n",
    "from sklearn import neighbors, svm, tree, linear_model, ensemble\n",
    "\n",
    "pd.options.mode.chained_assignment = None\n",
    "pd.set_option('display.max_columns', 1000)\n",
    "sns.set_style('whitegrid')\n",
    "sns.color_palette('pastel')\n",
    "%matplotlib inline\n",
    "\n",
    "# Import training data, put it into arrays\n",
    "train_data = pd.read_csv('4910797b-ee55-40a7-8668-10efd5c1b960.csv') # import training features\n",
    "train_labels = pd.read_csv('0bf8bc6e-30d0-4c50-956a-603fc693d966.csv')\n",
    "sg = np.array(train_labels['status_group'])\n",
    "train_data['status_group'] = sg\n",
    "test_data = pd.read_csv('702ddfc5-68cd-4d1d-a0de-f5f566f76d91.csv')\n",
    "\n",
    "print(train_data.head()); "
   ]
  },
  {
   "cell_type": "code",
   "execution_count": 2,
   "metadata": {
    "collapsed": false
   },
   "outputs": [
    {
     "name": "stdout",
     "output_type": "stream",
     "text": [
      "41\n",
      "id = 59400 unique values\n",
      "amount_tsh = 98 unique values\n",
      "date_recorded = 356 unique values\n",
      "funder = 1898 unique values\n",
      "gps_height = 2428 unique values\n",
      "installer = 2146 unique values\n",
      "longitude = 57516 unique values\n",
      "latitude = 57517 unique values\n",
      "wpt_name = 37400 unique values\n",
      "num_private = 65 unique values\n",
      "basin = 9 unique values\n",
      "subvillage = 19288 unique values\n",
      "region = 21 unique values\n",
      "region_code = 27 unique values\n",
      "district_code = 20 unique values\n",
      "lga = 125 unique values\n",
      "ward = 2092 unique values\n",
      "population = 1049 unique values\n",
      "public_meeting = 3 unique values\n",
      "recorded_by = 1 unique values\n",
      "scheme_management = 13 unique values\n",
      "scheme_name = 2697 unique values\n",
      "permit = 3 unique values\n",
      "construction_year = 55 unique values\n",
      "extraction_type = 18 unique values\n",
      "extraction_type_group = 13 unique values\n",
      "extraction_type_class = 7 unique values\n",
      "management = 12 unique values\n",
      "management_group = 5 unique values\n",
      "payment = 7 unique values\n",
      "payment_type = 7 unique values\n",
      "water_quality = 8 unique values\n",
      "quality_group = 6 unique values\n",
      "quantity = 5 unique values\n",
      "quantity_group = 5 unique values\n",
      "source = 10 unique values\n",
      "source_type = 7 unique values\n",
      "source_class = 3 unique values\n",
      "waterpoint_type = 7 unique values\n",
      "waterpoint_type_group = 6 unique values\n",
      "status_group = 3 unique values\n"
     ]
    }
   ],
   "source": [
    "print(len(train_data.columns))\n",
    "for i in range(len(train_data.columns)):\n",
    "    print(train_data.columns[i], '=', len(train_data.ix[:,i].unique()), 'unique values')"
   ]
  },
  {
   "cell_type": "code",
   "execution_count": 3,
   "metadata": {
    "collapsed": false,
    "scrolled": true
   },
   "outputs": [
    {
     "name": "stdout",
     "output_type": "stream",
     "text": [
      "29\n"
     ]
    }
   ],
   "source": [
    "# Remove redundant features\n",
    "\n",
    "train_data.drop(['region_code', 'region'], axis=1, inplace=True)\n",
    "train_data.drop('recorded_by', axis = 1, inplace = True) # delete column without having to reassign df\n",
    "train_data.drop(['extraction_type', 'extraction_type_group'], axis = 1, inplace = True)\n",
    "train_data.drop(['management'], axis=1, inplace=True)\n",
    "train_data.drop(['payment'], axis=1, inplace=True)\n",
    "train_data.drop(['water_quality'], axis=1, inplace=True)\n",
    "train_data.drop(['quantity'], axis=1, inplace=True)\n",
    "train_data.drop(['source','source_class'],axis=1,inplace=True)\n",
    "train_data.drop(['waterpoint_type'], axis=1, inplace=True)\n",
    "print(len(train_data.columns))"
   ]
  },
  {
   "cell_type": "code",
   "execution_count": 5,
   "metadata": {
    "collapsed": false,
    "scrolled": true
   },
   "outputs": [
    {
     "name": "stdout",
     "output_type": "stream",
     "text": [
      "True     38852\n",
      "False    17492\n",
      "Name: permit, dtype: int64\n",
      "True     51011\n",
      "False     5055\n",
      "Name: public_meeting, dtype: int64\n"
     ]
    },
    {
     "data": {
      "image/png": "[encoded data removed]",
      "text/plain": [
       "<matplotlib.figure.Figure at 0x116b78d68>"
      ]
     },
     "metadata": {},
     "output_type": "display_data"
    },
    {
     "data": {
      "image/png": "[encoded data removed]",
      "text/plain": [
       "<matplotlib.figure.Figure at 0x116b78f28>"
      ]
     },
     "metadata": {},
     "output_type": "display_data"
    }
   ],
   "source": [
    "print(train_data.permit.value_counts())\n",
    "grouped = train_data.groupby('status_group')\n",
    "\n",
    "grouped['basin'].value_counts().unstack(level=0).plot(kind='bar',stacked=True,title='basin')\n",
    "grouped['public_meeting'].value_counts().unstack(level=0).plot(kind='bar',stacked=True,title='permit')\n",
    "print(train_data.public_meeting.value_counts())\n",
    "#train_data.status_group.value_counts().plot(kind='bar',title='status_group')"
   ]
  },
  {
   "cell_type": "code",
   "execution_count": null,
   "metadata": {
    "collapsed": false
   },
   "outputs": [],
   "source": [
    "# binary converter. To ensure, whether boolean or string value of whichever input\n",
    "def binary(x):\n",
    "    if (x == True):\n",
    "        return 1\n",
    "    elif (x == False) or (x == nan):\n",
    "        return 0"
   ]
  },
  {
   "cell_type": "code",
   "execution_count": 6,
   "metadata": {
    "collapsed": false
   },
   "outputs": [
    {
     "name": "stdout",
     "output_type": "stream",
     "text": [
      "Index(['id', 'amount_tsh', 'date_recorded', 'funder', 'gps_height',\n",
      "       'installer', 'longitude', 'latitude', 'wpt_name', 'num_private',\n",
      "       'basin', 'subvillage', 'district_code', 'lga', 'ward', 'population',\n",
      "       'public_meeting', 'scheme_management', 'scheme_name', 'permit',\n",
      "       'construction_year', 'extraction_type_class', 'management_group',\n",
      "       'payment_type', 'quality_group', 'quantity_group', 'source_type',\n",
      "       'waterpoint_type_group', 'status_group'],\n",
      "      dtype='object')\n"
     ]
    }
   ],
   "source": [
    "print(train_data.columns)"
   ]
  },
  {
   "cell_type": "code",
   "execution_count": 15,
   "metadata": {
    "collapsed": false
   },
   "outputs": [],
   "source": [
    "X = np.array(train_data.drop(['id', 'status_group'], axis=1))\n",
    "y = np.array(train_data['status_group'])\n",
    "n = len(X)"
   ]
  },
  {
   "cell_type": "code",
   "execution_count": 17,
   "metadata": {
    "collapsed": false
   },
   "outputs": [
    {
     "ename": "ValueError",
     "evalue": "could not convert string to float: 'hand pump'",
     "output_type": "error",
     "traceback": [
      "\u001b[0;31m---------------------------------------------------------------------------\u001b[0m",
      "\u001b[0;31mValueError\u001b[0m                                Traceback (most recent call last)",
      "\u001b[0;32m<ipython-input-17-7e1d92fe94d6>\u001b[0m in \u001b[0;36m<module>\u001b[0;34m()\u001b[0m\n\u001b[1;32m      8\u001b[0m \u001b[0mprobs\u001b[0m \u001b[0;34m=\u001b[0m \u001b[0mnp\u001b[0m\u001b[0;34m.\u001b[0m\u001b[0mempty\u001b[0m\u001b[0;34m(\u001b[0m\u001b[0;34m[\u001b[0m\u001b[0;36m0\u001b[0m\u001b[0;34m,\u001b[0m\u001b[0;36m2\u001b[0m\u001b[0;34m]\u001b[0m\u001b[0;34m)\u001b[0m \u001b[0;31m# Initialize nx2 matrix of prediction probabilities\u001b[0m\u001b[0;34m\u001b[0m\u001b[0m\n\u001b[1;32m      9\u001b[0m \u001b[0;32mfor\u001b[0m \u001b[0mtrain\u001b[0m\u001b[0;34m,\u001b[0m \u001b[0mtest\u001b[0m \u001b[0;32min\u001b[0m \u001b[0mkfcv\u001b[0m\u001b[0;34m:\u001b[0m\u001b[0;34m\u001b[0m\u001b[0m\n\u001b[0;32m---> 10\u001b[0;31m     \u001b[0malg\u001b[0m\u001b[0;34m.\u001b[0m\u001b[0mfit\u001b[0m\u001b[0;34m(\u001b[0m\u001b[0mX\u001b[0m\u001b[0;34m[\u001b[0m\u001b[0mtrain\u001b[0m\u001b[0;34m,\u001b[0m\u001b[0;34m:\u001b[0m\u001b[0;34m]\u001b[0m\u001b[0;34m,\u001b[0m \u001b[0my\u001b[0m\u001b[0;34m[\u001b[0m\u001b[0mtrain\u001b[0m\u001b[0;34m]\u001b[0m\u001b[0;34m)\u001b[0m \u001b[0;31m# fit algorithm on training set\u001b[0m\u001b[0;34m\u001b[0m\u001b[0m\n\u001b[0m\u001b[1;32m     11\u001b[0m     \u001b[0merror\u001b[0m \u001b[0;34m=\u001b[0m \u001b[0;36m1\u001b[0m \u001b[0;34m-\u001b[0m \u001b[0malg\u001b[0m\u001b[0;34m.\u001b[0m\u001b[0mscore\u001b[0m\u001b[0;34m(\u001b[0m\u001b[0mX\u001b[0m\u001b[0;34m[\u001b[0m\u001b[0mtest\u001b[0m\u001b[0;34m,\u001b[0m\u001b[0;34m:\u001b[0m\u001b[0;34m]\u001b[0m\u001b[0;34m,\u001b[0m \u001b[0my\u001b[0m\u001b[0;34m[\u001b[0m\u001b[0mtest\u001b[0m\u001b[0;34m]\u001b[0m\u001b[0;34m)\u001b[0m \u001b[0;31m# Find the error on the test set\u001b[0m\u001b[0;34m\u001b[0m\u001b[0m\n\u001b[1;32m     12\u001b[0m     \u001b[0merror_rates\u001b[0m\u001b[0;34m.\u001b[0m\u001b[0mappend\u001b[0m\u001b[0;34m(\u001b[0m\u001b[0merror\u001b[0m\u001b[0;34m)\u001b[0m \u001b[0;31m# Create n-vector of error rates\u001b[0m\u001b[0;34m\u001b[0m\u001b[0m\n",
      "\u001b[0;32m/Users/avinashtamby/anaconda/lib/python3.5/site-packages/sklearn/ensemble/forest.py\u001b[0m in \u001b[0;36mfit\u001b[0;34m(self, X, y, sample_weight)\u001b[0m\n\u001b[1;32m    210\u001b[0m         \"\"\"\n\u001b[1;32m    211\u001b[0m         \u001b[0;31m# Validate or convert input data\u001b[0m\u001b[0;34m\u001b[0m\u001b[0;34m\u001b[0m\u001b[0m\n\u001b[0;32m--> 212\u001b[0;31m         \u001b[0mX\u001b[0m \u001b[0;34m=\u001b[0m \u001b[0mcheck_array\u001b[0m\u001b[0;34m(\u001b[0m\u001b[0mX\u001b[0m\u001b[0;34m,\u001b[0m \u001b[0mdtype\u001b[0m\u001b[0;34m=\u001b[0m\u001b[0mDTYPE\u001b[0m\u001b[0;34m,\u001b[0m \u001b[0maccept_sparse\u001b[0m\u001b[0;34m=\u001b[0m\u001b[0;34m\"csc\"\u001b[0m\u001b[0;34m)\u001b[0m\u001b[0;34m\u001b[0m\u001b[0m\n\u001b[0m\u001b[1;32m    213\u001b[0m         \u001b[0;32mif\u001b[0m \u001b[0missparse\u001b[0m\u001b[0;34m(\u001b[0m\u001b[0mX\u001b[0m\u001b[0;34m)\u001b[0m\u001b[0;34m:\u001b[0m\u001b[0;34m\u001b[0m\u001b[0m\n\u001b[1;32m    214\u001b[0m             \u001b[0;31m# Pre-sort indices to avoid that each individual tree of the\u001b[0m\u001b[0;34m\u001b[0m\u001b[0;34m\u001b[0m\u001b[0m\n",
      "\u001b[0;32m/Users/avinashtamby/anaconda/lib/python3.5/site-packages/sklearn/utils/validation.py\u001b[0m in \u001b[0;36mcheck_array\u001b[0;34m(array, accept_sparse, dtype, order, copy, force_all_finite, ensure_2d, allow_nd, ensure_min_samples, ensure_min_features, warn_on_dtype, estimator)\u001b[0m\n\u001b[1;32m    371\u001b[0m                                       force_all_finite)\n\u001b[1;32m    372\u001b[0m     \u001b[0;32melse\u001b[0m\u001b[0;34m:\u001b[0m\u001b[0;34m\u001b[0m\u001b[0m\n\u001b[0;32m--> 373\u001b[0;31m         \u001b[0marray\u001b[0m \u001b[0;34m=\u001b[0m \u001b[0mnp\u001b[0m\u001b[0;34m.\u001b[0m\u001b[0marray\u001b[0m\u001b[0;34m(\u001b[0m\u001b[0marray\u001b[0m\u001b[0;34m,\u001b[0m \u001b[0mdtype\u001b[0m\u001b[0;34m=\u001b[0m\u001b[0mdtype\u001b[0m\u001b[0;34m,\u001b[0m \u001b[0morder\u001b[0m\u001b[0;34m=\u001b[0m\u001b[0morder\u001b[0m\u001b[0;34m,\u001b[0m \u001b[0mcopy\u001b[0m\u001b[0;34m=\u001b[0m\u001b[0mcopy\u001b[0m\u001b[0;34m)\u001b[0m\u001b[0;34m\u001b[0m\u001b[0m\n\u001b[0m\u001b[1;32m    374\u001b[0m \u001b[0;34m\u001b[0m\u001b[0m\n\u001b[1;32m    375\u001b[0m         \u001b[0;32mif\u001b[0m \u001b[0mensure_2d\u001b[0m\u001b[0;34m:\u001b[0m\u001b[0;34m\u001b[0m\u001b[0m\n",
      "\u001b[0;31mValueError\u001b[0m: could not convert string to float: 'hand pump'"
     ]
    }
   ],
   "source": [
    "alg = ensemble.RandomForestClassifier(n_estimators = 100, n_jobs = -1)\n",
    "#preprocessing.scale(X)\n",
    "#knn = neighbors.KNeighborsClassifier(n_neighbors = k, n_jobs = -1)\n",
    "\n",
    "loocv = cross_validation.LeaveOneOut(n) # Create n training and test sets\n",
    "kfcv = cross_validation.KFold(n, n_folds = 10)\n",
    "error_rates = [] # Initialize vector of error rate for each iteration of CV\n",
    "probs = np.empty([0,2]) # Initialize nx2 matrix of prediction probabilities\n",
    "for train, test in kfcv:\n",
    "    alg.fit(X[train,:], y[train]) # fit algorithm on training set\n",
    "    error = 1 - alg.score(X[test,:], y[test]) # Find the error on the test set\n",
    "    error_rates.append(error) # Create n-vector of error rates\n",
    "    alg_train_pp = alg.predict_proba(X[test,:]) # Calculate prediction probabilities\n",
    "    probs = np.append(probs, alg_train_pp, axis = 0) # Create nx2 matrix of prediction probabilities\n",
    "#gen_error_rate = sum(error_rates) / n # Gen. error is mean of n error rates in CV\n",
    "#print('Generalization Error =', gen_error_rate*100, '%')\n",
    "log_loss = metrics.log_loss(y, probs) # Calculate log-loss\n",
    "print('Accuracy = ', 1 - error)\n",
    "print('Log Loss Score =', log_loss)\n",
    "fpr, tpr, thresholds = metrics.roc_curve(y, probs[:,1])\n",
    "print('AUC = ', metrics.auc(fpr, tpr))\n",
    "print()\n",
    "\n",
    "#ROC Curve\n",
    "#fpr, tpr, thresholds = metrics.roc_curve(y, probs[:,1])\n",
    "#roc_auc = metrics.auc(fpr, tpr)\n",
    "\n",
    "#fig = plt.plot(fpr, tpr, label='AUC = %0.3f' % roc_auc)\n",
    "#plt.plot([0, 1], [0, 1], 'k--')  # random predictions curve\n",
    "#plt.xlim([0, 1])\n",
    "#plt.ylim([0, 1])\n",
    "#plt.xlabel('False Positive Rate or (1 - Specificity)')\n",
    "#plt.ylabel('True Positive Rate or (Sensitivity)')\n",
    "#plt.title('Receiver Operating Characteristic')\n",
    "#plt.legend(loc=\"lower right\")\n",
    "#plt.show()\n",
    "\n",
    "#return fig"
   ]
  }
 ],
 "metadata": {
  "kernelspec": {
   "display_name": "Python 3",
   "language": "python",
   "name": "python3"
  },
  "language_info": {
   "codemirror_mode": {
    "name": "ipython",
    "version": 3
   },
   "file_extension": ".py",
   "mimetype": "text/x-python",
   "name": "python",
   "nbconvert_exporter": "python",
   "pygments_lexer": "ipython3",
   "version": "3.5.2"
  }
 },
 "nbformat": 4,
 "nbformat_minor": 0
}
